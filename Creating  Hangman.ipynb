{
 "cells": [
  {
   "cell_type": "code",
   "execution_count": 4,
   "id": "22014e94",
   "metadata": {},
   "outputs": [
    {
     "name": "stdout",
     "output_type": "stream",
     "text": [
      "Incorrect, you lost a life.\n",
      "You lost all your lives, you lost!\n"
     ]
    }
   ],
   "source": [
    "# import additonal functions\n",
    "from random import choice\n",
    "from IPython.display import clear_output\n",
    "\n",
    "# declare gave variables\n",
    "words= ['tree','basket','chair','paper','python']\n",
    "word = choice(words) # randomly chooses a word from words list\n",
    "guessed, lives, game_over = [ ], 3, False  # multi variables assignment\n",
    "\n",
    "# create a list of underscores to the length of the word\n",
    "guesses = [\"_\"]*len(word)\n",
    "\n",
    "# create main loop\n",
    "while not game_over:\n",
    "    # output game information\n",
    "    hidden_word = \"\".join(guesses)\n",
    "    print(\"Your guessed letters: {}\".format(guessed))\n",
    "    print(\"Word to guess: {}\".format(hidden_word))\n",
    "    print(\"Lives: {}\".format(lives))\n",
    "    \n",
    "    ans = input(\"Type quit or guess a letter: \").lower()\n",
    "    \n",
    "    clear_output()\n",
    "    if ans==\"quit\":\n",
    "        print(\"Thanks for playing.\")\n",
    "        \n",
    "        game_over = True\n",
    "    elif ans in word and ans not in guessed:\n",
    "        print(\"You guessed correctly!\")\n",
    "        \n",
    "        \n",
    "        for i in range(len(word)):\n",
    "            if word[i] ==ans:\n",
    "                guesses[i] = ans\n",
    "    elif ans in guessed:\n",
    "        print(\"You already guessed that. Try again.\")\n",
    "    else:\n",
    "        lives-=1\n",
    "        print(\"Incorrect, you lost a life.\")\n",
    "        \n",
    "        if ans not in guessed:\n",
    "            guessed.append(ans)\n",
    "        \n",
    "    if lives<=0:\n",
    "        print(\"You lost all your lives, you lost!\")\n",
    "        game_over = True\n",
    "    elif word == \"\".join(guesses):\n",
    "        print(\"Congratulations, you guessed it correctly!\")\n",
    "        game_over = True"
   ]
  },
  {
   "cell_type": "code",
   "execution_count": 6,
   "id": "ddb5389a",
   "metadata": {
    "scrolled": true
   },
   "outputs": [
    {
     "name": "stdout",
     "output_type": "stream",
     "text": [
      "     \n",
      "     x\n",
      "    x x\n",
      "   x x x\n",
      "  x x x x\n"
     ]
    }
   ],
   "source": [
    "row = 5\n",
    "for i in range(row):\n",
    "    print(' '*(row-i)+' x'*i)"
   ]
  },
  {
   "cell_type": "code",
   "execution_count": 26,
   "id": "cfba7257",
   "metadata": {},
   "outputs": [
    {
     "name": "stdout",
     "output_type": "stream",
     "text": [
      "John\n",
      "Amanda\n"
     ]
    }
   ],
   "source": [
    "names = [\"John\",\" \", \"Amanda\",5]\n",
    "\n",
    "for name in names:\n",
    "    if type(name) == str:\n",
    "        if name.strip()!='':\n",
    "            print(name)"
   ]
  },
  {
   "cell_type": "code",
   "execution_count": 40,
   "id": "cdc760f1",
   "metadata": {},
   "outputs": [
    {
     "name": "stdout",
     "output_type": "stream",
     "text": [
      "[89.6, 53.6, 111.2, 84.2]\n"
     ]
    }
   ],
   "source": [
    "temps = [32, 12, 44, 29]\n",
    "\n",
    "for i in range(len(temps)):\n",
    "    temps[i] =  (9/5) * temps[i] + 32\n",
    "    \n",
    "print(temps)"
   ]
  },
  {
   "cell_type": "code",
   "execution_count": 14,
   "id": "65b3aa7d",
   "metadata": {},
   "outputs": [
    {
     "name": "stdout",
     "output_type": "stream",
     "text": [
      "['Amanda', 'Bob', 'Kenny']\n"
     ]
    }
   ],
   "source": [
    "names = ['Bob', 'Kenny', 'Amanda', 'Bob', 'Kenny']\n",
    "\n",
    "for name in names:\n",
    "    if names.count(name)>1:\n",
    "        names.remove(name)\n",
    "        \n",
    "print(names)"
   ]
  },
  {
   "cell_type": "code",
   "execution_count": 19,
   "id": "0caa9d58",
   "metadata": {},
   "outputs": [
    {
     "name": "stdout",
     "output_type": "stream",
     "text": [
      "Enter a word: q\n",
      "Enter a word: e\n",
      "Enter a word: r\n",
      "Enter a word: quit\n",
      "q\n",
      "e\n",
      "r\n"
     ]
    }
   ],
   "source": [
    "flag = False\n",
    "s=[]\n",
    "\n",
    "while flag == False:\n",
    "    ans = input(\"Enter a word: \")\n",
    "    \n",
    "    if ans.lower() == 'quit':\n",
    "        flag=True\n",
    "    else:\n",
    "        s.append(ans)\n",
    "        \n",
    "for i in s:\n",
    "    print(i)"
   ]
  },
  {
   "cell_type": "code",
   "execution_count": null,
   "id": "ea84a4ae",
   "metadata": {},
   "outputs": [],
   "source": []
  }
 ],
 "metadata": {
  "kernelspec": {
   "display_name": "Python 3 (ipykernel)",
   "language": "python",
   "name": "python3"
  },
  "language_info": {
   "codemirror_mode": {
    "name": "ipython",
    "version": 3
   },
   "file_extension": ".py",
   "mimetype": "text/x-python",
   "name": "python",
   "nbconvert_exporter": "python",
   "pygments_lexer": "ipython3",
   "version": "3.10.11"
  }
 },
 "nbformat": 4,
 "nbformat_minor": 5
}
