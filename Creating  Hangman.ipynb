{
 "cells": [
  {
   "cell_type": "code",
   "execution_count": 4,
   "id": "22014e94",
   "metadata": {},
   "outputs": [
    {
     "name": "stdout",
     "output_type": "stream",
     "text": [
      "Incorrect, you lost a life.\n",
      "You lost all your lives, you lost!\n"
     ]
    }
   ],
   "source": [
    "# import additonal functions\n",
    "from random import choice\n",
    "from IPython.display import clear_output\n",
    "\n",
    "# declare gave variables\n",
    "words= ['tree','basket','chair','paper','python']\n",
    "word = choice(words) # randomly chooses a word from words list\n",
    "guessed, lives, game_over = [ ], 3, False  # multi variables assignment\n",
    "\n",
    "# create a list of underscores to the length of the word\n",
    "guesses = [\"_\"]*len(word)\n",
    "\n",
    "# create main loop\n",
    "while not game_over:\n",
    "    # output game information\n",
    "    hidden_word = \"\".join(guesses)\n",
    "    print(\"Your guessed letters: {}\".format(guessed))\n",
    "    print(\"Word to guess: {}\".format(hidden_word))\n",
    "    print(\"Lives: {}\".format(lives))\n",
    "    \n",
    "    ans = input(\"Type quit or guess a letter: \").lower()\n",
    "    \n",
    "    clear_output()\n",
    "    if ans==\"quit\":\n",
    "        print(\"Thanks for playing.\")\n",
    "        \n",
    "        game_over = True\n",
    "    elif ans in word and ans not in guessed:\n",
    "        print(\"You guessed correctly!\")\n",
    "        \n",
    "        \n",
    "        for i in range(len(word)):\n",
    "            if word[i] ==ans:\n",
    "                guesses[i] = ans\n",
    "    elif ans in guessed:\n",
    "        print(\"You already guessed that. Try again.\")\n",
    "    else:\n",
    "        lives-=1\n",
    "        print(\"Incorrect, you lost a life.\")\n",
    "        \n",
    "        if ans not in guessed:\n",
    "            guessed.append(ans)\n",
    "        \n",
    "    if lives<=0:\n",
    "        print(\"You lost all your lives, you lost!\")\n",
    "        game_over = True\n",
    "    elif word == \"\".join(guesses):\n",
    "        print(\"Congratulations, you guessed it correctly!\")\n",
    "        game_over = True"
   ]
  }
 ],
 "metadata": {
  "kernelspec": {
   "display_name": "Python 3 (ipykernel)",
   "language": "python",
   "name": "python3"
  },
  "language_info": {
   "codemirror_mode": {
    "name": "ipython",
    "version": 3
   },
   "file_extension": ".py",
   "mimetype": "text/x-python",
   "name": "python",
   "nbconvert_exporter": "python",
   "pygments_lexer": "ipython3",
   "version": "3.10.11"
  }
 },
 "nbformat": 4,
 "nbformat_minor": 5
}
