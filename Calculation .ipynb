{
 "cells": [
  {
   "cell_type": "code",
   "execution_count": 2,
   "id": "c1e0d2c0",
   "metadata": {},
   "outputs": [
    {
     "name": "stdout",
     "output_type": "stream",
     "text": [
      "Would you like to add/substract/multiply/divide?  add\n",
      "You chose add.\n"
     ]
    }
   ],
   "source": [
    "# step1: ask user for calculation to be performed \n",
    "\n",
    "operation = input(\"Would you like to add/substract/multiply/divide?  \").lower()\n",
    "print(\"You chose {}.\".format(operation))"
   ]
  },
  {
   "cell_type": "code",
   "execution_count": 3,
   "id": "c5a11098",
   "metadata": {},
   "outputs": [
    {
     "name": "stdout",
     "output_type": "stream",
     "text": [
      "What is the first number? 4\n",
      "What is the second number? 5\n",
      "First Number: 4\n",
      "Second Number: 5\n"
     ]
    }
   ],
   "source": [
    "# step2: ask for numbers, alert order matters for subtracting and dividing\n",
    "if operation==\"subtract\" or operation ==\"divide\":\n",
    "    print(\"You chose {}.\".format(operation))\n",
    "    print(\"Please keep in mind that the order of your numbers matter.\")\n",
    "num1 = input(\"What is the first number? \")\n",
    "num2 = input(\"What is the second number? \")\n",
    "print('First Number: {}'.format(num1))\n",
    "print(\"Second Number: {}\".format(num2))"
   ]
  },
  {
   "cell_type": "code",
   "execution_count": 4,
   "id": "659bf512",
   "metadata": {},
   "outputs": [
    {
     "name": "stdout",
     "output_type": "stream",
     "text": [
      "4.0 + 5.0 = 9.0\n"
     ]
    }
   ],
   "source": [
    "# step3: setup try/except for mathematical operation\n",
    "try:\n",
    "    # step3a: immediately try to convert numbers input to floats\n",
    "    num1,num2 = float(num1), float(num2)\n",
    "    # step 3b: perform operation and print result\n",
    "    if operation ==\"add\":\n",
    "        result = num1 + num2\n",
    "        print(\"{} + {} = {}\".format(num1,num2,result))\n",
    "    elif operation ==\"suntract\":\n",
    "        result = num1 - num2\n",
    "        print(\"{} - {} = {}\".format(num1,num2,result))\n",
    "    elif operation ==\"mutiply\":\n",
    "        result = num1 * num2\n",
    "        print(\"{} * {} = {}\".format(num1,num2,result))\n",
    "    elif operation ==\"divide\":\n",
    "        result = num1 / num2\n",
    "        print(\"{} / {} = {}\".format(num1,num2,result))\n",
    "    else:\n",
    "        print(\"Sorry, but'{}' is not an option.\".format(operation))\n",
    "\n",
    "except:\n",
    "    print(\"Error: Improper numbers used. Please try again.\")"
   ]
  },
  {
   "cell_type": "code",
   "execution_count": 11,
   "id": "9a91dbfd",
   "metadata": {},
   "outputs": [
    {
     "name": "stdout",
     "output_type": "stream",
     "text": [
      "Would you like to add/substract/multiply/divide?  substract\n",
      "You chose substract.\n",
      "Please keep in mind that the order of your numbers matter.\n",
      "What is the first number? 5\n",
      "What is the second number? 7\n",
      "First Number: 5\n",
      "Second Number: 7\n",
      "5.0 - 7.0 = -2.0\n"
     ]
    }
   ],
   "source": [
    "operation = input(\"Would you like to add/substract/multiply/divide?  \").lower()\n",
    "print(\"You chose {}.\".format(operation))\n",
    "\n",
    "if operation==\"substract\" or operation ==\"divide\":\n",
    "    print(\"Please keep in mind that the order of your numbers matter.\")\n",
    "\n",
    "num1 = input(\"What is the first number? \")\n",
    "num2 = input(\"What is the second number? \")\n",
    "print('First Number: {}'.format(num1))\n",
    "print(\"Second Number: {}\".format(num2))\n",
    "\n",
    "try:\n",
    "    num1,num2 = float(num1), float(num2)\n",
    "    if operation ==\"add\":\n",
    "        result = num1 + num2\n",
    "        print(\"{} + {} = {}\".format(num1,num2,result))\n",
    "    elif operation ==\"substract\":\n",
    "        result = num1 - num2\n",
    "        print(\"{} - {} = {}\".format(num1,num2,result))\n",
    "    elif operation ==\"multiply\":\n",
    "        result = num1 * num2\n",
    "        print(\"{} * {} = {}\".format(num1,num2,result))\n",
    "    elif operation ==\"divide\":\n",
    "        result = num1 / num2\n",
    "        print(\"{} / {} = {}\".format(num1,num2,round(result,2)))\n",
    "    else:\n",
    "        print(\"Sorry, but'{}' is not an option.\".format(operation))\n",
    "\n",
    "except:\n",
    "    print(\"Error: Improper numbers used. Please try again.\")"
   ]
  },
  {
   "cell_type": "code",
   "execution_count": null,
   "id": "129ea476",
   "metadata": {},
   "outputs": [],
   "source": []
  }
 ],
 "metadata": {
  "kernelspec": {
   "display_name": "Python 3 (ipykernel)",
   "language": "python",
   "name": "python3"
  },
  "language_info": {
   "codemirror_mode": {
    "name": "ipython",
    "version": 3
   },
   "file_extension": ".py",
   "mimetype": "text/x-python",
   "name": "python",
   "nbconvert_exporter": "python",
   "pygments_lexer": "ipython3",
   "version": "3.10.11"
  }
 },
 "nbformat": 4,
 "nbformat_minor": 5
}
